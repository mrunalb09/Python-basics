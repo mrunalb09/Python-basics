{
 "cells": [
  {
   "cell_type": "markdown",
   "id": "b9940e25",
   "metadata": {},
   "source": [
    "### Remove dups from list"
   ]
  },
  {
   "cell_type": "code",
   "execution_count": 6,
   "id": "8fbb5f47",
   "metadata": {},
   "outputs": [
    {
     "name": "stdout",
     "output_type": "stream",
     "text": [
      "[1, 2, 3, 4, 5]\n"
     ]
    }
   ],
   "source": [
    "# time complexity - O(n^2)\n",
    "\n",
    "def remove_dups(nums):\n",
    "    lst = []\n",
    "    for num in nums:\n",
    "        if num not in lst:\n",
    "            lst.append(num)\n",
    "    return lst\n",
    "\n",
    "listt = remove_dups([1,2,2,3,4,5,5,5])\n",
    "print(listt)"
   ]
  },
  {
   "cell_type": "code",
   "execution_count": 13,
   "id": "d96e27d7",
   "metadata": {},
   "outputs": [
    {
     "name": "stdout",
     "output_type": "stream",
     "text": [
      "[1, 2, 3, 4, 5]\n"
     ]
    }
   ],
   "source": [
    "lstt = [1,2,2,3,4,5,5,5]\n",
    "x = list(set(lstt))\n",
    "print(x)"
   ]
  },
  {
   "cell_type": "code",
   "execution_count": 16,
   "id": "a92e4295",
   "metadata": {},
   "outputs": [
    {
     "name": "stdout",
     "output_type": "stream",
     "text": [
      "[8, 9, 10, 1, 3, 2]\n"
     ]
    }
   ],
   "source": [
    "# time complexity - O(n) x O(1)\n",
    "\n",
    "def remove_dups_dict(nums):\n",
    "    seen = {}\n",
    "    for num in nums:\n",
    "        if num not in seen:\n",
    "            seen[num] = True\n",
    "    return list(seen)\n",
    "\n",
    "listt = remove_dups_dict([8,9,10,1,3,3,2,2,1])\n",
    "print(listt)"
   ]
  },
  {
   "cell_type": "code",
   "execution_count": 19,
   "id": "05001f22",
   "metadata": {},
   "outputs": [
    {
     "name": "stdout",
     "output_type": "stream",
     "text": [
      "[11, 12, 43, 15, 5]\n"
     ]
    }
   ],
   "source": [
    "import collections\n",
    "\n",
    "def remove_dups_counter(nums):\n",
    "    return(list(collections.Counter(nums)))\n",
    "\n",
    "listt = remove_dups_counter([11,12,12,43,43,15,5,5])\n",
    "print(listt)"
   ]
  },
  {
   "cell_type": "markdown",
   "id": "b3d57714",
   "metadata": {},
   "source": [
    "### Palindrome"
   ]
  },
  {
   "cell_type": "code",
   "execution_count": 43,
   "id": "18481c67",
   "metadata": {},
   "outputs": [
    {
     "name": "stdout",
     "output_type": "stream",
     "text": [
      "eca\n"
     ]
    }
   ],
   "source": [
    "string = 'abcdefghizqws'\n",
    "dict1 = {}\n",
    "\n",
    "print (string[4::-2]) # start index, end index, offset"
   ]
  },
  {
   "cell_type": "code",
   "execution_count": 49,
   "id": "1827bd14",
   "metadata": {},
   "outputs": [
    {
     "name": "stdout",
     "output_type": "stream",
     "text": [
      "[1, 2, 3, 6]\n"
     ]
    }
   ],
   "source": [
    "lst1 = [1,2,3,4,5,6,7,2]\n",
    "lst2 = [2,3,6,1,8,9,10]\n",
    "\n",
    "def common_elem(lst1,lst2):\n",
    "    res = []\n",
    "    for num in lst1:\n",
    "        if num in lst2:\n",
    "            res.append(num)\n",
    "    return list(set(res))\n",
    "\n",
    "result = common_elem(lst1, lst2)\n",
    "print(result)"
   ]
  },
  {
   "cell_type": "code",
   "execution_count": 54,
   "id": "a975b1df",
   "metadata": {},
   "outputs": [
    {
     "name": "stdout",
     "output_type": "stream",
     "text": [
      "[2, 3, 6, 1]\n"
     ]
    }
   ],
   "source": [
    "lst1 = [1,2,3,4,5,6,7,2]\n",
    "lst2 = [2,3,6,1,8,9,10]\n",
    "\n",
    "def common_elem_dict(lst1,lst2):\n",
    "    seen = {}\n",
    "    result = {}\n",
    "    for num in lst1:\n",
    "        if num not in seen:\n",
    "            seen[num] = 1\n",
    "    \n",
    "    for num in lst2:\n",
    "        if num in seen:\n",
    "#             seen[num] += 1\n",
    "              result[num] = True\n",
    "#     filtered_dict = {k:v for k,v in seen.items() if v >= 2}\n",
    "    return(list(result))\n",
    "\n",
    "result = common_elem_dict(lst1, lst2)\n",
    "print(result)"
   ]
  },
  {
   "cell_type": "code",
   "execution_count": 75,
   "id": "208b1554",
   "metadata": {},
   "outputs": [
    {
     "name": "stdout",
     "output_type": "stream",
     "text": [
      "{'F': 2, 'o': 2, 'u': 4, 'r': 3, ' ': 15, 'd': 2, 'a': 4, 'y': 4, 's': 5, 'w': 3, 'i': 8, 'l': 7, 'q': 2, 'c': 2, 'k': 2, 't': 6, 'e': 8, 'p': 1, 'h': 4, 'm': 3, 'v': 1, 'n': 3, 'g': 2, ';': 1, '.': 1}\n"
     ]
    }
   ],
   "source": [
    "quote = \"Four days will quickly steep themselves in night; Four nights will quickly dream away the time.\" \n",
    "vowels = 'aeiou' \n",
    "\n",
    "# Ask: find all vowels from the above quote, return vowels in a list \n",
    "# e.g. ['o','u','a',....]\n",
    "\n",
    "seen = {}\n",
    "for word in quote:\n",
    "    if word not in seen:\n",
    "        seen[word] = 1\n",
    "    else:\n",
    "        seen[word] +=1\n",
    "    \n",
    "print(seen)\n",
    "# print(list(set(lst)))"
   ]
  },
  {
   "cell_type": "code",
   "execution_count": 73,
   "id": "2e7c476d",
   "metadata": {},
   "outputs": [
    {
     "name": "stdout",
     "output_type": "stream",
     "text": [
      "['u', 'i', 'e', 'a', 'o']\n"
     ]
    }
   ],
   "source": [
    "quote = \"Four days will quickly steep themselves in night; Four nights will quickly dream away the time.\" \n",
    "vowels = 'aeiou' \n",
    "\n",
    "# Ask: find all vowels from the above quote, return vowels in a list \n",
    "# e.g. ['o','u','a',....]\n",
    "\n",
    "lst = []\n",
    "for word in quote:\n",
    "    for char in vowels:\n",
    "        if word == char:\n",
    "            lst.append(char)\n",
    "    \n",
    "print(lst)\n",
    "# print(list(set(lst)))"
   ]
  },
  {
   "cell_type": "markdown",
   "id": "eacaf4e1",
   "metadata": {},
   "source": [
    "### String manipulation"
   ]
  },
  {
   "cell_type": "code",
   "execution_count": 2,
   "id": "08fce3c8",
   "metadata": {},
   "outputs": [
    {
     "name": "stdout",
     "output_type": "stream",
     "text": [
      "{'i': 1, ' ': 1, 'a': 1, 'm': 1, 'c': 1, 'h': 1, 'e': 1, 'k': 1, 'n': 1, 'g': 1, 't': 1, 's': 1, 'r': 1, 'o': 1, 'w': 1, 'y': 1, 'p': 1}\n"
     ]
    }
   ],
   "source": [
    "## count chars\n",
    "\n",
    "chars = \"abcdefghijklmnopqrstuvwxyz\"\n",
    "check_string = \"i am checking this string to see how many times each character appears\"\n",
    "\n",
    "char_dict = {}\n",
    "for char in check_string:\n",
    "    if chars not in char_dict:\n",
    "        char_dict[char] = 1\n",
    "    else:\n",
    "        char_dict[char] += 1\n",
    "print(char_dict)"
   ]
  },
  {
   "cell_type": "markdown",
   "id": "75d55956",
   "metadata": {},
   "source": [
    "### Find longest substring without repeated characters"
   ]
  },
  {
   "cell_type": "code",
   "execution_count": 47,
   "id": "b0c562da",
   "metadata": {},
   "outputs": [
    {
     "name": "stdout",
     "output_type": "stream",
     "text": [
      "maxWord= che\n",
      "maxWord= heckingt\n",
      "maxWord= ingth\n",
      "maxWord= s\n",
      "maxWord= tring\n",
      "maxWord= e\n",
      "maxWord= manyti\n",
      "maxWord= es\n",
      "maxWord= ch\n",
      "maxWord= hc\n",
      "maxWord= ar\n",
      "maxWord= racte\n",
      "maxWord= acter\n",
      "maxWord= p\n",
      "8\n",
      "p\n"
     ]
    }
   ],
   "source": [
    "import collections\n",
    "str = \"iamcheckingthisstringtoseehowmanytimeseachcharacterappearsgolf\"\n",
    "\n",
    "# words = check_string.split()\n",
    "\n",
    "# # dict1 = {}\n",
    "# max1 = 0\n",
    "# for word in words:\n",
    "#     if len(word) == len(set(word)):\n",
    "#         if max1 < len(word):\n",
    "#             max1 = len(word)\n",
    "#             max_len_word = word\n",
    "            \n",
    "# print(max_len_word)\n",
    "idx = 0\n",
    "maxLen = 0\n",
    "maxWord = \"\"\n",
    "while idx < len(str):\n",
    "    char = str[idx]\n",
    "    if char in seen:\n",
    "#         print(\"seen \", char, \" at \", idx)\n",
    "        maxLen = max(maxLen, idx - seen[char])\n",
    "        maxWord = str[seen[char]:idx]\n",
    "        print(\"maxWord=\", maxWord)\n",
    "        idx = seen[char] + 1\n",
    "        seen = {}\n",
    "    else:\n",
    "        seen[char] = idx\n",
    "        idx += 1\n",
    "\n",
    "print(maxLen)\n",
    "print(maxWord)\n"
   ]
  },
  {
   "cell_type": "code",
   "execution_count": 25,
   "id": "79922200",
   "metadata": {},
   "outputs": [
    {
     "ename": "AttributeError",
     "evalue": "'dict' object has no attribute 'iteritems'",
     "output_type": "error",
     "traceback": [
      "\u001b[1;31m---------------------------------------------------------------------------\u001b[0m",
      "\u001b[1;31mAttributeError\u001b[0m                            Traceback (most recent call last)",
      "\u001b[1;32m<ipython-input-25-60c9ecac3020>\u001b[0m in \u001b[0;36m<module>\u001b[1;34m\u001b[0m\n\u001b[0;32m      5\u001b[0m     \u001b[1;32mif\u001b[0m \u001b[0mchar\u001b[0m \u001b[1;32mnot\u001b[0m \u001b[1;32min\u001b[0m \u001b[0mseen\u001b[0m\u001b[1;33m:\u001b[0m\u001b[1;33m\u001b[0m\u001b[0m\n\u001b[0;32m      6\u001b[0m         \u001b[0mseen\u001b[0m\u001b[1;33m[\u001b[0m\u001b[0mchar\u001b[0m\u001b[1;33m]\u001b[0m \u001b[1;33m=\u001b[0m \u001b[1;32mTrue\u001b[0m\u001b[1;33m\u001b[0m\u001b[0m\n\u001b[1;32m----> 7\u001b[1;33m \u001b[1;32mfor\u001b[0m \u001b[0mkey\u001b[0m\u001b[1;33m,\u001b[0m \u001b[0mvalue\u001b[0m \u001b[1;32min\u001b[0m \u001b[0mseen\u001b[0m\u001b[1;33m.\u001b[0m\u001b[0miteritems\u001b[0m\u001b[1;33m(\u001b[0m\u001b[1;33m)\u001b[0m\u001b[1;33m:\u001b[0m\u001b[1;33m\u001b[0m\u001b[0m\n\u001b[0m\u001b[0;32m      8\u001b[0m \u001b[1;33m\u001b[0m\u001b[0m\n\u001b[0;32m      9\u001b[0m     \u001b[0mkey\u001b[0m\u001b[1;33m.\u001b[0m\u001b[0mappend\u001b[0m\u001b[1;33m(\u001b[0m\u001b[0mkey\u001b[0m\u001b[1;33m)\u001b[0m\u001b[1;33m\u001b[0m\u001b[0m\n",
      "\u001b[1;31mAttributeError\u001b[0m: 'dict' object has no attribute 'iteritems'"
     ]
    }
   ],
   "source": [
    "s = \"abcabcbb\"\n",
    "\n",
    "seen = {}\n",
    "for char in s:\n",
    "    if char not in seen:\n",
    "        seen[char] = True\n",
    "\n",
    "# for key, value in seen.iteritems():\n",
    "#       key.append(key)\n",
    "        \n",
    "\n",
    "#  ab\n",
    "# a b null ab\n",
    "#  abc\n",
    "# a b c ab bc ac abc null"
   ]
  },
  {
   "cell_type": "code",
   "execution_count": 10,
   "id": "d3e2a89e",
   "metadata": {},
   "outputs": [
    {
     "name": "stdout",
     "output_type": "stream",
     "text": [
      "[1, 2, 6, 7, 8, 9, 11, 13]\n"
     ]
    }
   ],
   "source": [
    "l1 = [2,6,7,9]\n",
    "#              i\n",
    "#      len(l1) = 4\n",
    "#      l3 = [1,2,6,7,8,9]\n",
    "l2 = [1,8,11,13]\n",
    "#            j\n",
    "#     len(l2) = 4\n",
    "\n",
    "# l1 = [1,2]\n",
    "#         i\n",
    "# l2 = [1,2]\n",
    "#         j\n",
    "# merge two sorted lists \n",
    "\n",
    "l3 = []\n",
    "# for i in range(0,len(l1)):\n",
    "#     l3.append(l1[i])\n",
    "    \n",
    "# for j in range(0,len(l2)):\n",
    "#     l3.append(l2[j])\n",
    "    \n",
    "# l3.sort()   # complexity of sort is O((n+m)log(n+m)) + O(n+m)\n",
    "# print(l3)\n",
    "\n",
    "# time complexity: log n < n < nlog(n) < n^2\n",
    "\n",
    "# complexity: O(m + n)\n",
    "i,j = 0,0\n",
    "while (i < len(l1) and j < len(l2)):\n",
    "    if(l1[i] < l2[j]):\n",
    "        l3.append(l1[i])\n",
    "        i+=1\n",
    "    else:\n",
    "        l3.append(l2[j])\n",
    "        j+=1\n",
    "\n",
    "while i < len(l1):\n",
    "    l3.append(l1[i])\n",
    "    i += 1\n",
    "while j < len(l2):\n",
    "    l3.append(l2[j])\n",
    "    j += 1\n",
    "\n",
    "print(l3)"
   ]
  },
  {
   "cell_type": "code",
   "execution_count": 29,
   "id": "d032cada",
   "metadata": {},
   "outputs": [
    {
     "name": "stdout",
     "output_type": "stream",
     "text": [
      "[[1, 6], [4, 3], [3, 4], [6, 1]]\n"
     ]
    }
   ],
   "source": [
    "# two sum - using dict, more than 1 solution\n",
    "\n",
    "l1 = [1,2,4,3,6] \n",
    "target = 7\n",
    "# cmp 5, 3, 4, 1\n",
    " \n",
    "\n",
    "cmp = {}\n",
    "lst = []\n",
    "for i in range(len(l1)):\n",
    "    cmp[target - l1[i]] = True\n",
    "    \n",
    "for i in range(len(l1)):\n",
    "    if l1[i] in cmp:\n",
    "        lst.append([l1[i],target - l1[i]])\n",
    "    \n",
    "print(lst)"
   ]
  },
  {
   "cell_type": "code",
   "execution_count": 34,
   "id": "5a53aa8f",
   "metadata": {},
   "outputs": [
    {
     "name": "stdout",
     "output_type": "stream",
     "text": [
      "[[3, 4], [6, 1]]\n"
     ]
    }
   ],
   "source": [
    "# two sum - using dict, more than 1 solution causes duplication. Avoiding repetition in output\n",
    "\n",
    "l1 = [1,2,4,3,6] \n",
    "target = 7\n",
    "# cmp 6, 5, 3, 4, 1\n",
    " \n",
    "\n",
    "cmp = {}\n",
    "lst = []\n",
    "for i in range(len(l1)):\n",
    "    cmp[target - l1[i]] = True\n",
    "    if l1[i] in cmp:\n",
    "        lst.append([l1[i],target - l1[i]])\n",
    "    \n",
    "print(lst)"
   ]
  }
 ],
 "metadata": {
  "kernelspec": {
   "display_name": "Python 3",
   "language": "python",
   "name": "python3"
  },
  "language_info": {
   "codemirror_mode": {
    "name": "ipython",
    "version": 3
   },
   "file_extension": ".py",
   "mimetype": "text/x-python",
   "name": "python",
   "nbconvert_exporter": "python",
   "pygments_lexer": "ipython3",
   "version": "3.6.3"
  }
 },
 "nbformat": 4,
 "nbformat_minor": 5
}
